{
 "cells": [
  {
   "cell_type": "markdown",
   "id": "1d2273c6",
   "metadata": {},
   "source": [
    "### Importing necessary ml modules"
   ]
  },
  {
   "cell_type": "code",
   "execution_count": 2,
   "id": "2317c700",
   "metadata": {},
   "outputs": [],
   "source": [
    "import numpy as np\n",
    "import pandas as pd"
   ]
  },
  {
   "cell_type": "code",
   "execution_count": 3,
   "id": "7c8ecbd2",
   "metadata": {},
   "outputs": [
    {
     "name": "stdout",
     "output_type": "stream",
     "text": [
      "Dataset Overview:\n",
      "<class 'pandas.core.frame.DataFrame'>\n",
      "RangeIndex: 1500 entries, 0 to 1499\n",
      "Data columns (total 7 columns):\n",
      " #   Column                Non-Null Count  Dtype  \n",
      "---  ------                --------------  -----  \n",
      " 0   basin_name            1500 non-null   object \n",
      " 1   total_slope           1500 non-null   float64\n",
      " 2   total_elevation       1500 non-null   float64\n",
      " 3   annual_rainfall_mm    1500 non-null   float64\n",
      " 4   flood_occurred        1500 non-null   int64  \n",
      " 5   flood_month           1500 non-null   int32  \n",
      " 6   river_basin_width_km  1500 non-null   float64\n",
      "dtypes: float64(4), int32(1), int64(1), object(1)\n",
      "memory usage: 76.3+ KB\n",
      "None\n",
      "\n",
      "Flood Occurrence by Basin:\n",
      "            Total Records  Flood Occurrences  Flood Probability\n",
      "basin_name                                                     \n",
      "Bagmati               183                 16           0.087432\n",
      "Gandaki               180                  2           0.011111\n",
      "Kamala                188                 61           0.324468\n",
      "Karnali               193                  0           0.000000\n",
      "Koshi                 203                 21           0.103448\n",
      "Mahakali              191                  0           0.000000\n",
      "Narayani              176                 36           0.204545\n",
      "Rapti                 186                  6           0.032258\n",
      "\n",
      "Overall Flood Occurrence:\n",
      "Total Records: 1500\n",
      "Total Flood Occurrences: 142\n",
      "Flood Occurrence Rate: 9.47%\n"
     ]
    }
   ],
   "source": [
    "import pandas as pd\n",
    "import numpy as np\n",
    "from scipy.stats import beta\n",
    "\n",
    "def generate_authentic_flood_dataset(num_records=1500):\n",
    "    \"\"\"\n",
    "    Generate a more authentic flood occurrence dataset \n",
    "    reflecting Nepal's actual flood characteristics\n",
    "    \"\"\"\n",
    "    \n",
    "    # Nepal's river basins\n",
    "    basins = [\n",
    "        'Koshi', 'Gandaki', 'Narayani', 'Karnali', \n",
    "        'Mahakali', 'Rapti', 'Bagmati', 'Kamala'\n",
    "    ]\n",
    "    \n",
    "    # Set random seed for reproducibility\n",
    "    np.random.seed(42)\n",
    "    \n",
    "    # Actual flood occurrence probabilities by basin\n",
    "    # Based on historical flood frequency data\n",
    "    basin_flood_probabilities = {\n",
    "        'Koshi': 0.35,       # Highly flood-prone\n",
    "        'Gandaki': 0.25,     # Moderate flood risk\n",
    "        'Narayani': 0.40,    # High flood frequency\n",
    "        'Karnali': 0.20,     # Lower flood risk\n",
    "        'Mahakali': 0.15,    # Least flood-prone\n",
    "        'Rapti': 0.30,       # Moderate flood risk\n",
    "        'Bagmati': 0.35,     # Significant flood risk\n",
    "        'Kamala': 0.45       # Very high flood risk\n",
    "    }\n",
    "    \n",
    "    # Generate basin names with flood probabilities\n",
    "    basin_names = []\n",
    "    flood_probabilities = []\n",
    "    for _ in range(num_records):\n",
    "        basin = np.random.choice(list(basin_flood_probabilities.keys()))\n",
    "        basin_names.append(basin)\n",
    "        flood_probabilities.append(basin_flood_probabilities[basin])\n",
    "    \n",
    "    # Create base dataset\n",
    "    data = {\n",
    "        'basin_name': basin_names,\n",
    "    }\n",
    "    \n",
    "    # Generate other feature columns\n",
    "    data['total_slope'] = np.round(np.random.uniform(0, 45, num_records), 2)\n",
    "    data['total_elevation'] = np.round(np.random.uniform(70, 8848, num_records), 2)\n",
    "    data['annual_rainfall_mm'] = np.round(np.random.uniform(500, 5000, num_records), 2)\n",
    "    \n",
    "    # Authentic Flood Occurrence Generation\n",
    "    def generate_authentic_flood_occurrence(base_probability):\n",
    "        \"\"\"\n",
    "        Generate more nuanced flood occurrence \n",
    "        using beta distribution for realistic variation\n",
    "        \"\"\"\n",
    "        # Adjust beta distribution parameters for more realistic flood occurrence\n",
    "        a = base_probability * 20  # Shape parameter 1\n",
    "        b = (1 - base_probability) * 20  # Shape parameter 2\n",
    "        \n",
    "        # Generate flood occurrence with beta distribution\n",
    "        return 1 if np.random.beta(a, b) > 0.5 else 0\n",
    "    \n",
    "    # Generate flood occurrence column\n",
    "    data['flood_occurred'] = [\n",
    "        generate_authentic_flood_occurrence(prob) \n",
    "        for prob in flood_probabilities\n",
    "    ]\n",
    "    \n",
    "    # Additional contextual features\n",
    "    data['flood_month'] = np.random.choice([6,7,8,9], num_records)  # Monsoon months\n",
    "    data['river_basin_width_km'] = np.round(np.random.uniform(10, 500, num_records), 2)\n",
    "    \n",
    "    # Create DataFrame\n",
    "    df = pd.DataFrame(data)\n",
    "    \n",
    "    return df\n",
    "\n",
    "# Generate dataset\n",
    "authentic_flood_dataset = generate_authentic_flood_dataset(1500)\n",
    "\n",
    "# Save to CSV\n",
    "authentic_flood_dataset.to_csv('authentic_nepal_flood_dataset.csv', index=False)\n",
    "\n",
    "# Detailed Analysis\n",
    "print(\"Dataset Overview:\")\n",
    "print(authentic_flood_dataset.info())\n",
    "\n",
    "print(\"\\nFlood Occurrence by Basin:\")\n",
    "basin_flood_summary = authentic_flood_dataset.groupby('basin_name')['flood_occurred'].agg(['count', 'sum', 'mean'])\n",
    "basin_flood_summary.columns = ['Total Records', 'Flood Occurrences', 'Flood Probability']\n",
    "print(basin_flood_summary)\n",
    "\n",
    "print(\"\\nOverall Flood Occurrence:\")\n",
    "total_records = len(authentic_flood_dataset)\n",
    "total_floods = authentic_flood_dataset['flood_occurred'].sum()\n",
    "print(f\"Total Records: {total_records}\")\n",
    "print(f\"Total Flood Occurrences: {total_floods}\")\n",
    "print(f\"Flood Occurrence Rate: {total_floods/total_records*100:.2f}%\")"
   ]
  },
  {
   "cell_type": "code",
   "execution_count": 4,
   "id": "4a523c8b",
   "metadata": {
    "scrolled": true
   },
   "outputs": [
    {
     "data": {
      "text/html": [
       "<div>\n",
       "<style scoped>\n",
       "    .dataframe tbody tr th:only-of-type {\n",
       "        vertical-align: middle;\n",
       "    }\n",
       "\n",
       "    .dataframe tbody tr th {\n",
       "        vertical-align: top;\n",
       "    }\n",
       "\n",
       "    .dataframe thead th {\n",
       "        text-align: right;\n",
       "    }\n",
       "</style>\n",
       "<table border=\"1\" class=\"dataframe\">\n",
       "  <thead>\n",
       "    <tr style=\"text-align: right;\">\n",
       "      <th></th>\n",
       "      <th>basin_name</th>\n",
       "      <th>total_slope</th>\n",
       "      <th>total_elevation</th>\n",
       "      <th>annual_rainfall_mm</th>\n",
       "      <th>flood_occurred</th>\n",
       "      <th>flood_month</th>\n",
       "      <th>river_basin_width_km</th>\n",
       "    </tr>\n",
       "  </thead>\n",
       "  <tbody>\n",
       "    <tr>\n",
       "      <th>0</th>\n",
       "      <td>Bagmati</td>\n",
       "      <td>5.26</td>\n",
       "      <td>893.88</td>\n",
       "      <td>4530.03</td>\n",
       "      <td>0</td>\n",
       "      <td>8</td>\n",
       "      <td>80.88</td>\n",
       "    </tr>\n",
       "    <tr>\n",
       "      <th>1</th>\n",
       "      <td>Karnali</td>\n",
       "      <td>42.29</td>\n",
       "      <td>8054.70</td>\n",
       "      <td>4591.29</td>\n",
       "      <td>0</td>\n",
       "      <td>8</td>\n",
       "      <td>309.50</td>\n",
       "    </tr>\n",
       "    <tr>\n",
       "      <th>2</th>\n",
       "      <td>Mahakali</td>\n",
       "      <td>28.25</td>\n",
       "      <td>5944.24</td>\n",
       "      <td>1912.45</td>\n",
       "      <td>0</td>\n",
       "      <td>8</td>\n",
       "      <td>467.30</td>\n",
       "    </tr>\n",
       "    <tr>\n",
       "      <th>3</th>\n",
       "      <td>Bagmati</td>\n",
       "      <td>15.07</td>\n",
       "      <td>7349.48</td>\n",
       "      <td>3609.75</td>\n",
       "      <td>0</td>\n",
       "      <td>6</td>\n",
       "      <td>105.89</td>\n",
       "    </tr>\n",
       "    <tr>\n",
       "      <th>4</th>\n",
       "      <td>Narayani</td>\n",
       "      <td>6.27</td>\n",
       "      <td>7785.68</td>\n",
       "      <td>1722.35</td>\n",
       "      <td>1</td>\n",
       "      <td>8</td>\n",
       "      <td>384.64</td>\n",
       "    </tr>\n",
       "  </tbody>\n",
       "</table>\n",
       "</div>"
      ],
      "text/plain": [
       "  basin_name  total_slope  total_elevation  annual_rainfall_mm  \\\n",
       "0    Bagmati         5.26           893.88             4530.03   \n",
       "1    Karnali        42.29          8054.70             4591.29   \n",
       "2   Mahakali        28.25          5944.24             1912.45   \n",
       "3    Bagmati        15.07          7349.48             3609.75   \n",
       "4   Narayani         6.27          7785.68             1722.35   \n",
       "\n",
       "   flood_occurred  flood_month  river_basin_width_km  \n",
       "0               0            8                 80.88  \n",
       "1               0            8                309.50  \n",
       "2               0            8                467.30  \n",
       "3               0            6                105.89  \n",
       "4               1            8                384.64  "
      ]
     },
     "execution_count": 4,
     "metadata": {},
     "output_type": "execute_result"
    }
   ],
   "source": [
    "authentic_flood_dataset.head() # to see the top 5 rows of the dataset"
   ]
  },
  {
   "cell_type": "code",
   "execution_count": 5,
   "id": "4c7cfa09",
   "metadata": {
    "scrolled": false
   },
   "outputs": [
    {
     "data": {
      "text/html": [
       "<div>\n",
       "<style scoped>\n",
       "    .dataframe tbody tr th:only-of-type {\n",
       "        vertical-align: middle;\n",
       "    }\n",
       "\n",
       "    .dataframe tbody tr th {\n",
       "        vertical-align: top;\n",
       "    }\n",
       "\n",
       "    .dataframe thead th {\n",
       "        text-align: right;\n",
       "    }\n",
       "</style>\n",
       "<table border=\"1\" class=\"dataframe\">\n",
       "  <thead>\n",
       "    <tr style=\"text-align: right;\">\n",
       "      <th></th>\n",
       "      <th>basin_name</th>\n",
       "      <th>total_slope</th>\n",
       "      <th>total_elevation</th>\n",
       "      <th>annual_rainfall_mm</th>\n",
       "      <th>flood_occurred</th>\n",
       "      <th>flood_month</th>\n",
       "      <th>river_basin_width_km</th>\n",
       "    </tr>\n",
       "  </thead>\n",
       "  <tbody>\n",
       "    <tr>\n",
       "      <th>0</th>\n",
       "      <td>Bagmati</td>\n",
       "      <td>5.26</td>\n",
       "      <td>893.88</td>\n",
       "      <td>4530.03</td>\n",
       "      <td>0</td>\n",
       "      <td>8</td>\n",
       "      <td>80.88</td>\n",
       "    </tr>\n",
       "    <tr>\n",
       "      <th>1</th>\n",
       "      <td>Karnali</td>\n",
       "      <td>42.29</td>\n",
       "      <td>8054.70</td>\n",
       "      <td>4591.29</td>\n",
       "      <td>0</td>\n",
       "      <td>8</td>\n",
       "      <td>309.50</td>\n",
       "    </tr>\n",
       "    <tr>\n",
       "      <th>2</th>\n",
       "      <td>Mahakali</td>\n",
       "      <td>28.25</td>\n",
       "      <td>5944.24</td>\n",
       "      <td>1912.45</td>\n",
       "      <td>0</td>\n",
       "      <td>8</td>\n",
       "      <td>467.30</td>\n",
       "    </tr>\n",
       "    <tr>\n",
       "      <th>3</th>\n",
       "      <td>Bagmati</td>\n",
       "      <td>15.07</td>\n",
       "      <td>7349.48</td>\n",
       "      <td>3609.75</td>\n",
       "      <td>0</td>\n",
       "      <td>6</td>\n",
       "      <td>105.89</td>\n",
       "    </tr>\n",
       "    <tr>\n",
       "      <th>4</th>\n",
       "      <td>Narayani</td>\n",
       "      <td>6.27</td>\n",
       "      <td>7785.68</td>\n",
       "      <td>1722.35</td>\n",
       "      <td>1</td>\n",
       "      <td>8</td>\n",
       "      <td>384.64</td>\n",
       "    </tr>\n",
       "    <tr>\n",
       "      <th>...</th>\n",
       "      <td>...</td>\n",
       "      <td>...</td>\n",
       "      <td>...</td>\n",
       "      <td>...</td>\n",
       "      <td>...</td>\n",
       "      <td>...</td>\n",
       "      <td>...</td>\n",
       "    </tr>\n",
       "    <tr>\n",
       "      <th>1495</th>\n",
       "      <td>Mahakali</td>\n",
       "      <td>23.47</td>\n",
       "      <td>1934.86</td>\n",
       "      <td>3119.32</td>\n",
       "      <td>0</td>\n",
       "      <td>7</td>\n",
       "      <td>33.93</td>\n",
       "    </tr>\n",
       "    <tr>\n",
       "      <th>1496</th>\n",
       "      <td>Kamala</td>\n",
       "      <td>2.86</td>\n",
       "      <td>5894.41</td>\n",
       "      <td>4090.12</td>\n",
       "      <td>0</td>\n",
       "      <td>7</td>\n",
       "      <td>440.19</td>\n",
       "    </tr>\n",
       "    <tr>\n",
       "      <th>1497</th>\n",
       "      <td>Kamala</td>\n",
       "      <td>37.41</td>\n",
       "      <td>3679.49</td>\n",
       "      <td>4389.65</td>\n",
       "      <td>0</td>\n",
       "      <td>9</td>\n",
       "      <td>49.12</td>\n",
       "    </tr>\n",
       "    <tr>\n",
       "      <th>1498</th>\n",
       "      <td>Narayani</td>\n",
       "      <td>26.95</td>\n",
       "      <td>3602.32</td>\n",
       "      <td>2556.00</td>\n",
       "      <td>0</td>\n",
       "      <td>8</td>\n",
       "      <td>82.69</td>\n",
       "    </tr>\n",
       "    <tr>\n",
       "      <th>1499</th>\n",
       "      <td>Bagmati</td>\n",
       "      <td>5.17</td>\n",
       "      <td>7834.90</td>\n",
       "      <td>2637.99</td>\n",
       "      <td>0</td>\n",
       "      <td>9</td>\n",
       "      <td>20.85</td>\n",
       "    </tr>\n",
       "  </tbody>\n",
       "</table>\n",
       "<p>1500 rows × 7 columns</p>\n",
       "</div>"
      ],
      "text/plain": [
       "     basin_name  total_slope  total_elevation  annual_rainfall_mm  \\\n",
       "0       Bagmati         5.26           893.88             4530.03   \n",
       "1       Karnali        42.29          8054.70             4591.29   \n",
       "2      Mahakali        28.25          5944.24             1912.45   \n",
       "3       Bagmati        15.07          7349.48             3609.75   \n",
       "4      Narayani         6.27          7785.68             1722.35   \n",
       "...         ...          ...              ...                 ...   \n",
       "1495   Mahakali        23.47          1934.86             3119.32   \n",
       "1496     Kamala         2.86          5894.41             4090.12   \n",
       "1497     Kamala        37.41          3679.49             4389.65   \n",
       "1498   Narayani        26.95          3602.32             2556.00   \n",
       "1499    Bagmati         5.17          7834.90             2637.99   \n",
       "\n",
       "      flood_occurred  flood_month  river_basin_width_km  \n",
       "0                  0            8                 80.88  \n",
       "1                  0            8                309.50  \n",
       "2                  0            8                467.30  \n",
       "3                  0            6                105.89  \n",
       "4                  1            8                384.64  \n",
       "...              ...          ...                   ...  \n",
       "1495               0            7                 33.93  \n",
       "1496               0            7                440.19  \n",
       "1497               0            9                 49.12  \n",
       "1498               0            8                 82.69  \n",
       "1499               0            9                 20.85  \n",
       "\n",
       "[1500 rows x 7 columns]"
      ]
     },
     "execution_count": 5,
     "metadata": {},
     "output_type": "execute_result"
    }
   ],
   "source": [
    "authentic_flood_dataset"
   ]
  },
  {
   "cell_type": "code",
   "execution_count": 7,
   "id": "32aa3423",
   "metadata": {
    "scrolled": true
   },
   "outputs": [
    {
     "name": "stdout",
     "output_type": "stream",
     "text": [
      "Percentage of 1s in column 'flood_occurred': 9.47%\n"
     ]
    }
   ],
   "source": [
    "# Calculate the percentage of 0s in the specified column\n",
    "total_values = len(authentic_flood_dataset['flood_occurred'])\n",
    "zero_count = (authentic_flood_dataset['flood_occurred'] == 1).sum()\n",
    "zero_percentage = (zero_count / total_values) * 100\n",
    "\n",
    "# Display the result\n",
    "print(f\"Percentage of 1s in column 'flood_occurred': {zero_percentage:.2f}%\")\n"
   ]
  },
  {
   "cell_type": "code",
   "execution_count": 8,
   "id": "148cca1e",
   "metadata": {},
   "outputs": [
    {
     "name": "stdout",
     "output_type": "stream",
     "text": [
      "<class 'pandas.core.frame.DataFrame'>\n",
      "RangeIndex: 1500 entries, 0 to 1499\n",
      "Data columns (total 7 columns):\n",
      " #   Column                Non-Null Count  Dtype  \n",
      "---  ------                --------------  -----  \n",
      " 0   basin_name            1500 non-null   object \n",
      " 1   total_slope           1500 non-null   float64\n",
      " 2   total_elevation       1500 non-null   float64\n",
      " 3   annual_rainfall_mm    1500 non-null   float64\n",
      " 4   flood_occurred        1500 non-null   int64  \n",
      " 5   flood_month           1500 non-null   int32  \n",
      " 6   river_basin_width_km  1500 non-null   float64\n",
      "dtypes: float64(4), int32(1), int64(1), object(1)\n",
      "memory usage: 76.3+ KB\n"
     ]
    }
   ],
   "source": [
    "authentic_flood_dataset.info()"
   ]
  },
  {
   "cell_type": "code",
   "execution_count": 9,
   "id": "c5606a6b",
   "metadata": {},
   "outputs": [
    {
     "data": {
      "text/html": [
       "<div>\n",
       "<style scoped>\n",
       "    .dataframe tbody tr th:only-of-type {\n",
       "        vertical-align: middle;\n",
       "    }\n",
       "\n",
       "    .dataframe tbody tr th {\n",
       "        vertical-align: top;\n",
       "    }\n",
       "\n",
       "    .dataframe thead th {\n",
       "        text-align: right;\n",
       "    }\n",
       "</style>\n",
       "<table border=\"1\" class=\"dataframe\">\n",
       "  <thead>\n",
       "    <tr style=\"text-align: right;\">\n",
       "      <th></th>\n",
       "      <th>total_slope</th>\n",
       "      <th>total_elevation</th>\n",
       "      <th>annual_rainfall_mm</th>\n",
       "      <th>flood_occurred</th>\n",
       "      <th>flood_month</th>\n",
       "      <th>river_basin_width_km</th>\n",
       "    </tr>\n",
       "  </thead>\n",
       "  <tbody>\n",
       "    <tr>\n",
       "      <th>count</th>\n",
       "      <td>1500.000000</td>\n",
       "      <td>1500.000000</td>\n",
       "      <td>1500.000000</td>\n",
       "      <td>1500.000000</td>\n",
       "      <td>1500.000000</td>\n",
       "      <td>1500.000000</td>\n",
       "    </tr>\n",
       "    <tr>\n",
       "      <th>mean</th>\n",
       "      <td>22.629573</td>\n",
       "      <td>4419.834373</td>\n",
       "      <td>2719.313267</td>\n",
       "      <td>0.094667</td>\n",
       "      <td>7.458667</td>\n",
       "      <td>251.627673</td>\n",
       "    </tr>\n",
       "    <tr>\n",
       "      <th>std</th>\n",
       "      <td>13.113228</td>\n",
       "      <td>2527.907327</td>\n",
       "      <td>1287.193694</td>\n",
       "      <td>0.292852</td>\n",
       "      <td>1.115850</td>\n",
       "      <td>144.339266</td>\n",
       "    </tr>\n",
       "    <tr>\n",
       "      <th>min</th>\n",
       "      <td>0.140000</td>\n",
       "      <td>70.100000</td>\n",
       "      <td>500.140000</td>\n",
       "      <td>0.000000</td>\n",
       "      <td>6.000000</td>\n",
       "      <td>10.650000</td>\n",
       "    </tr>\n",
       "    <tr>\n",
       "      <th>25%</th>\n",
       "      <td>10.820000</td>\n",
       "      <td>2271.407500</td>\n",
       "      <td>1616.655000</td>\n",
       "      <td>0.000000</td>\n",
       "      <td>6.000000</td>\n",
       "      <td>123.220000</td>\n",
       "    </tr>\n",
       "    <tr>\n",
       "      <th>50%</th>\n",
       "      <td>23.205000</td>\n",
       "      <td>4395.070000</td>\n",
       "      <td>2680.335000</td>\n",
       "      <td>0.000000</td>\n",
       "      <td>7.000000</td>\n",
       "      <td>247.555000</td>\n",
       "    </tr>\n",
       "    <tr>\n",
       "      <th>75%</th>\n",
       "      <td>34.035000</td>\n",
       "      <td>6592.575000</td>\n",
       "      <td>3820.697500</td>\n",
       "      <td>0.000000</td>\n",
       "      <td>8.000000</td>\n",
       "      <td>380.305000</td>\n",
       "    </tr>\n",
       "    <tr>\n",
       "      <th>max</th>\n",
       "      <td>44.970000</td>\n",
       "      <td>8844.120000</td>\n",
       "      <td>4989.870000</td>\n",
       "      <td>1.000000</td>\n",
       "      <td>9.000000</td>\n",
       "      <td>499.430000</td>\n",
       "    </tr>\n",
       "  </tbody>\n",
       "</table>\n",
       "</div>"
      ],
      "text/plain": [
       "       total_slope  total_elevation  annual_rainfall_mm  flood_occurred  \\\n",
       "count  1500.000000      1500.000000         1500.000000     1500.000000   \n",
       "mean     22.629573      4419.834373         2719.313267        0.094667   \n",
       "std      13.113228      2527.907327         1287.193694        0.292852   \n",
       "min       0.140000        70.100000          500.140000        0.000000   \n",
       "25%      10.820000      2271.407500         1616.655000        0.000000   \n",
       "50%      23.205000      4395.070000         2680.335000        0.000000   \n",
       "75%      34.035000      6592.575000         3820.697500        0.000000   \n",
       "max      44.970000      8844.120000         4989.870000        1.000000   \n",
       "\n",
       "       flood_month  river_basin_width_km  \n",
       "count  1500.000000           1500.000000  \n",
       "mean      7.458667            251.627673  \n",
       "std       1.115850            144.339266  \n",
       "min       6.000000             10.650000  \n",
       "25%       6.000000            123.220000  \n",
       "50%       7.000000            247.555000  \n",
       "75%       8.000000            380.305000  \n",
       "max       9.000000            499.430000  "
      ]
     },
     "execution_count": 9,
     "metadata": {},
     "output_type": "execute_result"
    }
   ],
   "source": [
    "authentic_flood_dataset.describe()"
   ]
  },
  {
   "cell_type": "code",
   "execution_count": null,
   "id": "c3b9aebd",
   "metadata": {},
   "outputs": [],
   "source": []
  },
  {
   "cell_type": "code",
   "execution_count": null,
   "id": "d1258f79",
   "metadata": {},
   "outputs": [],
   "source": []
  },
  {
   "cell_type": "markdown",
   "id": "4113d3b4",
   "metadata": {},
   "source": [
    "### Checking for null values"
   ]
  },
  {
   "cell_type": "code",
   "execution_count": 9,
   "id": "f1fec6fc",
   "metadata": {
    "scrolled": false
   },
   "outputs": [
    {
     "data": {
      "text/plain": [
       "basin_name              0\n",
       "total_slope             0\n",
       "total_elevation         0\n",
       "annual_rainfall_mm      0\n",
       "flood_occurred          0\n",
       "flood_month             0\n",
       "river_basin_width_km    0\n",
       "dtype: int64"
      ]
     },
     "execution_count": 9,
     "metadata": {},
     "output_type": "execute_result"
    }
   ],
   "source": [
    "authentic_flood_dataset.apply(lambda x:sum(x.isnull()), axis=0)"
   ]
  },
  {
   "cell_type": "code",
   "execution_count": 10,
   "id": "974d1708",
   "metadata": {
    "scrolled": true
   },
   "outputs": [
    {
     "data": {
      "text/html": [
       "<div>\n",
       "<style scoped>\n",
       "    .dataframe tbody tr th:only-of-type {\n",
       "        vertical-align: middle;\n",
       "    }\n",
       "\n",
       "    .dataframe tbody tr th {\n",
       "        vertical-align: top;\n",
       "    }\n",
       "\n",
       "    .dataframe thead th {\n",
       "        text-align: right;\n",
       "    }\n",
       "</style>\n",
       "<table border=\"1\" class=\"dataframe\">\n",
       "  <thead>\n",
       "    <tr style=\"text-align: right;\">\n",
       "      <th></th>\n",
       "      <th>total_slope</th>\n",
       "      <th>total_elevation</th>\n",
       "      <th>annual_rainfall_mm</th>\n",
       "      <th>flood_occurred</th>\n",
       "      <th>flood_month</th>\n",
       "      <th>river_basin_width_km</th>\n",
       "    </tr>\n",
       "  </thead>\n",
       "  <tbody>\n",
       "    <tr>\n",
       "      <th>0</th>\n",
       "      <td>5.26</td>\n",
       "      <td>893.88</td>\n",
       "      <td>4530.03</td>\n",
       "      <td>0</td>\n",
       "      <td>8</td>\n",
       "      <td>80.88</td>\n",
       "    </tr>\n",
       "    <tr>\n",
       "      <th>1</th>\n",
       "      <td>42.29</td>\n",
       "      <td>8054.70</td>\n",
       "      <td>4591.29</td>\n",
       "      <td>0</td>\n",
       "      <td>8</td>\n",
       "      <td>309.50</td>\n",
       "    </tr>\n",
       "    <tr>\n",
       "      <th>2</th>\n",
       "      <td>28.25</td>\n",
       "      <td>5944.24</td>\n",
       "      <td>1912.45</td>\n",
       "      <td>0</td>\n",
       "      <td>8</td>\n",
       "      <td>467.30</td>\n",
       "    </tr>\n",
       "    <tr>\n",
       "      <th>3</th>\n",
       "      <td>15.07</td>\n",
       "      <td>7349.48</td>\n",
       "      <td>3609.75</td>\n",
       "      <td>0</td>\n",
       "      <td>6</td>\n",
       "      <td>105.89</td>\n",
       "    </tr>\n",
       "    <tr>\n",
       "      <th>4</th>\n",
       "      <td>6.27</td>\n",
       "      <td>7785.68</td>\n",
       "      <td>1722.35</td>\n",
       "      <td>1</td>\n",
       "      <td>8</td>\n",
       "      <td>384.64</td>\n",
       "    </tr>\n",
       "  </tbody>\n",
       "</table>\n",
       "</div>"
      ],
      "text/plain": [
       "   total_slope  total_elevation  annual_rainfall_mm  flood_occurred  \\\n",
       "0         5.26           893.88             4530.03               0   \n",
       "1        42.29          8054.70             4591.29               0   \n",
       "2        28.25          5944.24             1912.45               0   \n",
       "3        15.07          7349.48             3609.75               0   \n",
       "4         6.27          7785.68             1722.35               1   \n",
       "\n",
       "   flood_month  river_basin_width_km  \n",
       "0            8                 80.88  \n",
       "1            8                309.50  \n",
       "2            8                467.30  \n",
       "3            6                105.89  \n",
       "4            8                384.64  "
      ]
     },
     "execution_count": 10,
     "metadata": {},
     "output_type": "execute_result"
    }
   ],
   "source": [
    "x = authentic_flood_dataset."
   ]
  },
  {
   "cell_type": "markdown",
   "id": "29e16b61",
   "metadata": {},
   "source": [
    "### Serperating the flood label from the dataset"
   ]
  },
  {
   "cell_type": "code",
   "execution_count": 13,
   "id": "166adca4",
   "metadata": {
    "scrolled": true
   },
   "outputs": [
    {
     "data": {
      "text/plain": [
       "0    0\n",
       "1    0\n",
       "2    0\n",
       "3    0\n",
       "4    1\n",
       "Name: flood_occurred, dtype: int64"
      ]
     },
     "execution_count": 13,
     "metadata": {},
     "output_type": "execute_result"
    }
   ],
   "source": [
    "y = authentic_flood_dataset.iloc[:, -3]\n",
    "y.head()"
   ]
  },
  {
   "cell_type": "markdown",
   "id": "1a62a757",
   "metadata": {},
   "source": [
    "## Data visualization"
   ]
  },
  {
   "cell_type": "code",
   "execution_count": 26,
   "id": "77ca7f81",
   "metadata": {
    "scrolled": true
   },
   "outputs": [
    {
     "data": {
      "text/plain": [
       "array([[0.11420923, 0.09388855, 0.89757959, 0.        , 0.66666667,\n",
       "        0.14368428],\n",
       "       [0.9402186 , 0.91002756, 0.91122406, 0.        , 0.66666667,\n",
       "        0.61142027],\n",
       "       [0.62703547, 0.66949243, 0.31456457, 0.        , 0.66666667,\n",
       "        0.9342649 ],\n",
       "       ...,\n",
       "       [0.83136293, 0.41137244, 0.86631267, 0.        , 1.        ,\n",
       "        0.07870617],\n",
       "       [0.59803703, 0.40257715, 0.45790281, 0.        , 0.66666667,\n",
       "        0.14738737],\n",
       "       [0.11220165, 0.88497633, 0.47616449, 0.        , 1.        ,\n",
       "        0.02086828]])"
      ]
     },
     "execution_count": 26,
     "metadata": {},
     "output_type": "execute_result"
    }
   ],
   "source": [
    "from sklearn import preprocessing\n",
    "minmax = preprocessing.MinMaxScaler(feature_range=(0,1))\n",
    "minmax.fit(x).transform(x)"
   ]
  },
  {
   "cell_type": "markdown",
   "id": "2a1c2383",
   "metadata": {},
   "source": [
    "### Splitting the data into training and testing sets"
   ]
  },
  {
   "cell_type": "code",
   "execution_count": 15,
   "id": "c54d0ba7",
   "metadata": {},
   "outputs": [
    {
     "data": {
      "text/html": [
       "<div>\n",
       "<style scoped>\n",
       "    .dataframe tbody tr th:only-of-type {\n",
       "        vertical-align: middle;\n",
       "    }\n",
       "\n",
       "    .dataframe tbody tr th {\n",
       "        vertical-align: top;\n",
       "    }\n",
       "\n",
       "    .dataframe thead th {\n",
       "        text-align: right;\n",
       "    }\n",
       "</style>\n",
       "<table border=\"1\" class=\"dataframe\">\n",
       "  <thead>\n",
       "    <tr style=\"text-align: right;\">\n",
       "      <th></th>\n",
       "      <th>total_slope</th>\n",
       "      <th>total_elevation</th>\n",
       "      <th>annual_rainfall_mm</th>\n",
       "      <th>flood_occurred</th>\n",
       "      <th>flood_month</th>\n",
       "      <th>river_basin_width_km</th>\n",
       "    </tr>\n",
       "  </thead>\n",
       "  <tbody>\n",
       "    <tr>\n",
       "      <th>804</th>\n",
       "      <td>10.26</td>\n",
       "      <td>5835.00</td>\n",
       "      <td>2563.33</td>\n",
       "      <td>0</td>\n",
       "      <td>8</td>\n",
       "      <td>253.65</td>\n",
       "    </tr>\n",
       "    <tr>\n",
       "      <th>486</th>\n",
       "      <td>38.90</td>\n",
       "      <td>8771.88</td>\n",
       "      <td>755.97</td>\n",
       "      <td>0</td>\n",
       "      <td>8</td>\n",
       "      <td>466.63</td>\n",
       "    </tr>\n",
       "    <tr>\n",
       "      <th>1022</th>\n",
       "      <td>40.14</td>\n",
       "      <td>6420.39</td>\n",
       "      <td>1556.39</td>\n",
       "      <td>0</td>\n",
       "      <td>9</td>\n",
       "      <td>218.88</td>\n",
       "    </tr>\n",
       "    <tr>\n",
       "      <th>680</th>\n",
       "      <td>20.46</td>\n",
       "      <td>5254.62</td>\n",
       "      <td>3548.96</td>\n",
       "      <td>0</td>\n",
       "      <td>9</td>\n",
       "      <td>90.47</td>\n",
       "    </tr>\n",
       "    <tr>\n",
       "      <th>599</th>\n",
       "      <td>1.80</td>\n",
       "      <td>3217.60</td>\n",
       "      <td>3341.56</td>\n",
       "      <td>0</td>\n",
       "      <td>8</td>\n",
       "      <td>117.86</td>\n",
       "    </tr>\n",
       "  </tbody>\n",
       "</table>\n",
       "</div>"
      ],
      "text/plain": [
       "      total_slope  total_elevation  annual_rainfall_mm  flood_occurred  \\\n",
       "804         10.26          5835.00             2563.33               0   \n",
       "486         38.90          8771.88              755.97               0   \n",
       "1022        40.14          6420.39             1556.39               0   \n",
       "680         20.46          5254.62             3548.96               0   \n",
       "599          1.80          3217.60             3341.56               0   \n",
       "\n",
       "      flood_month  river_basin_width_km  \n",
       "804             8                253.65  \n",
       "486             8                466.63  \n",
       "1022            9                218.88  \n",
       "680             9                 90.47  \n",
       "599             8                117.86  "
      ]
     },
     "execution_count": 15,
     "metadata": {},
     "output_type": "execute_result"
    }
   ],
   "source": [
    "from sklearn import model_selection,neighbors\n",
    "from sklearn.model_selection import train_test_split\n",
    "x_train,x_test,y_train,y_test=train_test_split(x,y,test_size=0.2)\n",
    "x_train.head()"
   ]
  },
  {
   "cell_type": "code",
   "execution_count": 16,
   "id": "5e7a3570",
   "metadata": {},
   "outputs": [
    {
     "data": {
      "text/plain": [
       "804     0\n",
       "486     0\n",
       "1022    0\n",
       "680     0\n",
       "599     0\n",
       "Name: flood_occurred, dtype: int64"
      ]
     },
     "execution_count": 16,
     "metadata": {},
     "output_type": "execute_result"
    }
   ],
   "source": [
    "y_train.head()"
   ]
  },
  {
   "cell_type": "code",
   "execution_count": 17,
   "id": "797bb4ac",
   "metadata": {},
   "outputs": [],
   "source": [
    "x_train_std = minmax.fit_transform(x_train)\n",
    "x_test_std = minmax.transform(x_test)"
   ]
  },
  {
   "cell_type": "markdown",
   "id": "00823a59",
   "metadata": {},
   "source": [
    "### Training the model"
   ]
  },
  {
   "cell_type": "code",
   "execution_count": 18,
   "id": "a95f8cd9",
   "metadata": {},
   "outputs": [],
   "source": [
    "from sklearn.model_selection import cross_val_score\n",
    "from sklearn.linear_model import LogisticRegression\n",
    "\n",
    "lr = LogisticRegression()\n",
    "lr_clf = lr.fit(x_train_std,y_train)\n",
    "\n",
    "lr_accuracy = cross_val_score(lr_clf,x_test_std,y_test,cv=3,scoring='accuracy',n_jobs=-1)"
   ]
  },
  {
   "cell_type": "code",
   "execution_count": 19,
   "id": "caff6577",
   "metadata": {},
   "outputs": [
    {
     "data": {
      "text/plain": [
       "1.0"
      ]
     },
     "execution_count": 19,
     "metadata": {},
     "output_type": "execute_result"
    }
   ],
   "source": [
    "lr_accuracy.mean()"
   ]
  },
  {
   "cell_type": "code",
   "execution_count": 20,
   "id": "b1c423cf",
   "metadata": {},
   "outputs": [
    {
     "name": "stdout",
     "output_type": "stream",
     "text": [
      "Predicted chances of flood\n",
      "[0 0 0 0 0 0 0 0 0 0 0 0 0 0 0 0 0 0 0 0 1 0 0 1 0 0 0 0 0 0 0 0 0 0 0 0 0\n",
      " 0 0 0 0 0 0 0 0 0 0 0 0 0 0 0 0 0 0 0 0 0 1 0 0 0 0 0 0 0 1 0 1 1 0 0 0 0\n",
      " 0 0 0 0 1 0 0 0 0 0 0 1 0 0 0 0 0 0 0 0 0 0 0 0 0 0 0 0 0 0 0 0 0 0 0 0 0\n",
      " 0 0 1 0 0 0 0 1 0 0 0 1 0 0 1 0 0 0 0 0 0 0 0 0 0 0 0 0 0 0 0 0 0 0 0 0 0\n",
      " 0 0 0 0 0 0 0 0 0 0 0 1 0 0 0 0 0 0 0 0 0 0 0 0 0 0 0 0 0 0 0 0 0 0 0 0 0\n",
      " 0 0 1 0 0 0 0 1 0 0 0 0 0 0 0 0 0 0 0 0 0 0 0 0 0 0 0 0 0 0 0 0 0 0 0 0 0\n",
      " 0 0 0 1 1 0 0 0 0 0 0 0 0 0 0 0 0 1 0 0 0 1 0 0 0 1 0 0 0 0 0 0 0 0 0 0 0\n",
      " 0 0 0 0 0 0 0 0 1 0 0 0 0 0 0 0 1 0 0 0 0 0 0 0 0 0 1 0 0 1 0 0 0 0 0 0 0\n",
      " 0 0 0 0]\n"
     ]
    }
   ],
   "source": [
    "y_predict = lr_clf.predict(x_test_std)\n",
    "print('Predicted chances of flood')\n",
    "print(y_predict)"
   ]
  },
  {
   "cell_type": "code",
   "execution_count": 21,
   "id": "bb5db263",
   "metadata": {},
   "outputs": [
    {
     "name": "stdout",
     "output_type": "stream",
     "text": [
      "Actual chances of flood\n",
      "[0 0 0 0 0 0 0 0 0 0 0 0 0 0 0 0 0 0 0 0 1 0 0 1 0 0 0 0 0 0 0 0 0 0 0 0 0\n",
      " 0 0 0 0 0 0 0 0 0 0 0 0 0 0 0 0 0 0 0 0 0 1 0 0 0 0 0 0 0 1 0 1 1 0 0 0 0\n",
      " 0 0 0 0 1 0 0 0 0 0 0 1 0 0 0 0 0 0 0 0 0 0 0 0 0 0 0 0 0 0 0 0 0 0 0 0 0\n",
      " 0 0 1 0 0 0 0 1 0 0 0 1 0 0 1 0 0 0 0 0 0 0 0 0 0 0 0 0 0 0 0 0 0 0 0 0 0\n",
      " 0 0 0 0 0 0 0 0 0 0 0 1 0 0 0 0 0 0 0 0 0 0 0 0 0 0 0 0 0 0 0 0 0 0 0 0 0\n",
      " 0 0 1 0 0 0 0 1 0 0 0 0 0 0 0 0 0 0 0 0 0 0 0 0 0 0 0 0 0 0 0 0 0 0 0 0 0\n",
      " 0 0 0 1 1 0 0 0 0 0 0 0 0 0 0 0 0 1 0 0 0 1 0 0 0 1 0 0 0 0 0 0 0 0 0 0 0\n",
      " 0 0 0 0 0 0 0 0 1 0 0 0 0 0 0 0 1 0 0 0 0 0 0 0 0 0 1 0 0 1 0 0 0 0 0 0 0\n",
      " 0 0 0 0]\n"
     ]
    }
   ],
   "source": [
    "print('Actual chances of flood')\n",
    "print(y_test.values)"
   ]
  },
  {
   "cell_type": "markdown",
   "id": "85f2c8f6",
   "metadata": {},
   "source": [
    "### Accuracy, recall and roc score estimation"
   ]
  },
  {
   "cell_type": "code",
   "execution_count": 22,
   "id": "d623f67f",
   "metadata": {
    "scrolled": true
   },
   "outputs": [
    {
     "name": "stdout",
     "output_type": "stream",
     "text": [
      "\n",
      "accuracy score: 100.000000\n",
      "recall score: 100.000000\n",
      "roc score: 100.000000\n"
     ]
    }
   ],
   "source": [
    "from sklearn.metrics import accuracy_score,recall_score,roc_auc_score,confusion_matrix\n",
    "print(\"\\naccuracy score: %f\"%(accuracy_score(y_test,y_predict)*100))\n",
    "print(\"recall score: %f\"%(recall_score(y_test,y_predict)*100))\n",
    "print(\"roc score: %f\"%(roc_auc_score(y_test,y_predict)*100))"
   ]
  },
  {
   "cell_type": "code",
   "execution_count": null,
   "id": "9137a8e6",
   "metadata": {},
   "outputs": [],
   "source": []
  }
 ],
 "metadata": {
  "kernelspec": {
   "display_name": "Python 3 (ipykernel)",
   "language": "python",
   "name": "python3"
  },
  "language_info": {
   "codemirror_mode": {
    "name": "ipython",
    "version": 3
   },
   "file_extension": ".py",
   "mimetype": "text/x-python",
   "name": "python",
   "nbconvert_exporter": "python",
   "pygments_lexer": "ipython3",
   "version": "3.9.13"
  }
 },
 "nbformat": 4,
 "nbformat_minor": 5
}
